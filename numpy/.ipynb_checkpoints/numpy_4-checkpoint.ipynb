{
 "cells": [
  {
   "cell_type": "code",
   "execution_count": 3,
   "metadata": {},
   "outputs": [
    {
     "name": "stdout",
     "output_type": "stream",
     "text": [
      "[0 1 2]\n",
      "[1.         2.71828183 7.3890561 ]\n",
      "[0.         1.         1.41421356]\n"
     ]
    }
   ],
   "source": [
    "import numpy as np\n",
    "b = np.arange(3)\n",
    "print(b)\n",
    "print(np.exp(b))  # e^x\n",
    "print(np.sqrt(b)) # 开根"
   ]
  },
  {
   "cell_type": "code",
   "execution_count": 24,
   "metadata": {},
   "outputs": [
    {
     "name": "stdout",
     "output_type": "stream",
     "text": [
      "[[6. 8. 8. 0.]\n",
      " [6. 2. 4. 0.]\n",
      " [6. 3. 3. 4.]]\n",
      "[6. 8. 8. 0. 6. 2. 4. 0. 6. 3. 3. 4.]\n",
      "[[ 6. 99.]\n",
      " [ 8.  0.]\n",
      " [ 6.  2.]\n",
      " [ 4.  0.]\n",
      " [ 6.  3.]\n",
      " [ 3.  4.]]\n",
      "[ 6. 99.  8.  0.  6.  2.  4.  0.  6.  3.  3.  4.]\n",
      "[[ 6.  8.  6.  4.  6.  3.]\n",
      " [99.  0.  2.  0.  3.  4.]]\n"
     ]
    }
   ],
   "source": [
    "a = np.floor(3.5)  # 向下取整 取一个不大于当前数字的熟\n",
    "a = np.floor(10*np.random.random((3,4)))\n",
    "print(a)\n",
    "print(a.ravel()) # 将多维数组转换为一维数组  \n",
    "a.ravel()[1] = 99 # 会改变源数组数据\n",
    "a.shape = (6,2)\n",
    "print(a)\n",
    "print(a.flatten()) # flatten函数返回的是拷贝\n",
    "a.flatten()[1] = -1 # 不改变源数据\n",
    "print(a.T) # a的转秩\n"
   ]
  },
  {
   "cell_type": "code",
   "execution_count": 28,
   "metadata": {},
   "outputs": [
    {
     "name": "stdout",
     "output_type": "stream",
     "text": [
      "[[1. 9.]\n",
      " [0. 1.]\n",
      " [8. 3.]\n",
      " [7. 8.]\n",
      " [2. 0.]\n",
      " [6. 6.]]\n",
      "None\n",
      "[[1. 9. 0. 1. 8. 3.]\n",
      " [7. 8. 2. 0. 6. 6.]]\n",
      "[[1. 9.]\n",
      " [0. 1.]\n",
      " [8. 3.]\n",
      " [7. 8.]\n",
      " [2. 0.]\n",
      " [6. 6.]]\n"
     ]
    }
   ],
   "source": [
    "a = np.floor(10*np.random.random((6,2)))  # 6 * 2 的矩阵 0~1之间的float\n",
    "print(a)\n",
    "print(a.resize((2,6)))\n",
    "print(a)\n",
    "print(a.reshape((6,2)))"
   ]
  },
  {
   "cell_type": "code",
   "execution_count": 35,
   "metadata": {},
   "outputs": [
    {
     "name": "stdout",
     "output_type": "stream",
     "text": [
      "[[7. 2.]\n",
      " [2. 6.]]\n",
      "[[3. 8.]\n",
      " [9. 7.]]\n",
      "[[7. 2. 3. 8.]\n",
      " [2. 6. 9. 7.]]\n",
      "[[7. 2.]\n",
      " [2. 6.]\n",
      " [3. 8.]\n",
      " [9. 7.]]\n"
     ]
    }
   ],
   "source": [
    "a = np.floor(10*np.random.random((2,2)))\n",
    "b = np.floor(10*np.random.random((2,2)))\n",
    "print(a)\n",
    "print(b)\n",
    "print(np.hstack((a,b))) #在水平方向上平铺\n",
    "print(np.vstack((a,b))) #在垂直方向上堆叠"
   ]
  },
  {
   "cell_type": "code",
   "execution_count": 48,
   "metadata": {},
   "outputs": [
    {
     "name": "stdout",
     "output_type": "stream",
     "text": [
      "[[1. 6. 8. 5. 0. 4. 0. 3. 7. 5. 3. 0.]\n",
      " [9. 2. 5. 2. 8. 7. 3. 0. 7. 8. 8. 3.]]\n",
      "[array([[1., 6., 8.],\n",
      "       [9., 2., 5.]]), array([[5.],\n",
      "       [2.]]), array([[0., 4., 0., 3., 7., 5., 3., 0.],\n",
      "       [8., 7., 3., 0., 7., 8., 8., 3.]])]\n",
      "[array([[0., 3.],\n",
      "       [0., 0.],\n",
      "       [9., 5.],\n",
      "       [9., 6.]]), array([[9., 0.],\n",
      "       [6., 7.],\n",
      "       [6., 2.],\n",
      "       [0., 8.]]), array([[6., 0.],\n",
      "       [0., 7.],\n",
      "       [0., 8.],\n",
      "       [8., 6.]])]\n"
     ]
    }
   ],
   "source": [
    "a = np.floor(10*np.random.random((2,12)))\n",
    "print(a)\n",
    "# print(np.hsplit(a,3)) # 沿着水平方向切割\n",
    "print(np.hsplit(a,(3,4)) )\n",
    "a = np.floor(10*np.random.random((12,2)))\n",
    "print(np.vsplit(a,3))"
   ]
  },
  {
   "cell_type": "code",
   "execution_count": 51,
   "metadata": {},
   "outputs": [
    {
     "name": "stdout",
     "output_type": "stream",
     "text": [
      "True\n",
      "[[ 0  1  2  3]\n",
      " [ 4  5  6  7]\n",
      " [ 8  9 10 11]]\n"
     ]
    }
   ],
   "source": [
    "a = np.arange(12)\n",
    "b = a\n",
    "print(b is a) # b与a控制着同一个向量 只是名字不一样\n",
    "b.shape = (3,4)\n",
    "print(a)"
   ]
  },
  {
   "cell_type": "code",
   "execution_count": 56,
   "metadata": {},
   "outputs": [
    {
     "name": "stdout",
     "output_type": "stream",
     "text": [
      "False\n",
      "[[   0    1    2    3 1234    5]\n",
      " [   6    7    8    9   10   11]]\n",
      "[[   0    1    2    3]\n",
      " [1234    5    6    7]\n",
      " [   8    9   10   11]]\n"
     ]
    }
   ],
   "source": [
    "c = a.view() # c是一个新的向量 但a c两个对象共享相同的数据\n",
    "print(c is a)\n",
    "c.shape = 2,6\n",
    "c[0,4] = 1234\n",
    "print(c)\n",
    "print(a)"
   ]
  },
  {
   "cell_type": "code",
   "execution_count": 57,
   "metadata": {},
   "outputs": [
    {
     "name": "stdout",
     "output_type": "stream",
     "text": [
      "False\n",
      "[[9999    1    2    3]\n",
      " [1234    5    6    7]\n",
      " [   8    9   10   11]]\n",
      "[[   0    1    2    3]\n",
      " [1234    5    6    7]\n",
      " [   8    9   10   11]]\n"
     ]
    }
   ],
   "source": [
    "d = a.copy()  # The copy method makes a complete copy of the array and its data.\n",
    "print(d is a)\n",
    "d[0,0] = 9999\n",
    "print(d)\n",
    "print(a)"
   ]
  }
 ],
 "metadata": {
  "kernelspec": {
   "display_name": "Python 3",
   "language": "python",
   "name": "python3"
  },
  "language_info": {
   "codemirror_mode": {
    "name": "ipython",
    "version": 3
   },
   "file_extension": ".py",
   "mimetype": "text/x-python",
   "name": "python",
   "nbconvert_exporter": "python",
   "pygments_lexer": "ipython3",
   "version": "3.6.8"
  }
 },
 "nbformat": 4,
 "nbformat_minor": 2
}
