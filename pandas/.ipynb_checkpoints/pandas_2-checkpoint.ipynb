{
 "cells": [
  {
   "cell_type": "code",
   "execution_count": 58,
   "metadata": {},
   "outputs": [
    {
     "name": "stdout",
     "output_type": "stream",
     "text": [
      "['NDB_No', 'Shrt_Desc', 'Water_(g)', 'Energ_Kcal', 'Protein_(g)', 'Lipid_Tot_(g)', 'Ash_(g)', 'Carbohydrt_(g)', 'Fiber_TD_(g)', 'Sugar_Tot_(g)', 'Calcium_(mg)', 'Iron_(mg)', 'Magnesium_(mg)', 'Phosphorus_(mg)', 'Potassium_(mg)', 'Sodium_(mg)', 'Zinc_(mg)', 'Copper_(mg)', 'Manganese_(mg)', 'Selenium_(mcg)', 'Vit_C_(mg)', 'Thiamin_(mg)', 'Riboflavin_(mg)', 'Niacin_(mg)', 'Vit_B6_(mg)', 'Vit_B12_(mcg)', 'Vit_A_IU', 'Vit_A_RAE', 'Vit_E_(mg)', 'Vit_D_mcg', 'Vit_D_IU', 'Vit_K_(mcg)', 'FA_Sat_(g)', 'FA_Mono_(g)', 'FA_Poly_(g)', 'Cholestrl_(mg)']\n",
      "   NDB_No                 Shrt_Desc  Water_(g)  Energ_Kcal  Protein_(g)  \\\n",
      "0    1001          BUTTER WITH SALT      15.87         717         0.85   \n",
      "1    1002  BUTTER WHIPPED WITH SALT      15.87         717         0.85   \n",
      "2    1003      BUTTER OIL ANHYDROUS       0.24         876         0.28   \n",
      "\n",
      "   Lipid_Tot_(g)  Ash_(g)  Carbohydrt_(g)  Fiber_TD_(g)  Sugar_Tot_(g)  \\\n",
      "0          81.11     2.11            0.06           0.0           0.06   \n",
      "1          81.11     2.11            0.06           0.0           0.06   \n",
      "2          99.48     0.00            0.00           0.0           0.00   \n",
      "\n",
      "        ...        Vit_A_IU  Vit_A_RAE  Vit_E_(mg)  Vit_D_mcg  Vit_D_IU  \\\n",
      "0       ...          2499.0      684.0        2.32        1.5      60.0   \n",
      "1       ...          2499.0      684.0        2.32        1.5      60.0   \n",
      "2       ...          3069.0      840.0        2.80        1.8      73.0   \n",
      "\n",
      "   Vit_K_(mcg)  FA_Sat_(g)  FA_Mono_(g)  FA_Poly_(g)  Cholestrl_(mg)  \n",
      "0          7.0      51.368       21.021        3.043           215.0  \n",
      "1          7.0      50.489       23.426        3.012           219.0  \n",
      "2          8.6      61.924       28.732        3.694           256.0  \n",
      "\n",
      "[3 rows x 36 columns]\n"
     ]
    }
   ],
   "source": [
    "import pandas\n",
    "food_info = pandas.read_csv('food_info.csv')\n",
    "column_names = food_info.columns.tolist()\n",
    "print(column_names)\n",
    "print(food_info[column_names].head(3))"
   ]
  },
  {
   "cell_type": "code",
   "execution_count": 15,
   "metadata": {},
   "outputs": [
    {
     "name": "stdout",
     "output_type": "stream",
     "text": [
      "0    0.02\n",
      "1    0.16\n",
      "2    0.00\n",
      "3    0.31\n",
      "4    0.43\n",
      "Name: Iron_(mg), dtype: float64\n",
      "2.7435686459686024\n",
      "0    0.00002\n",
      "1    0.00016\n",
      "2    0.00000\n",
      "3    0.00031\n",
      "4    0.00043\n",
      "Name: Iron_(mg), dtype: float64\n",
      "0    100.02\n",
      "1    100.16\n",
      "2    100.00\n",
      "3    100.31\n",
      "4    100.43\n",
      "Name: Iron_(mg), dtype: float64\n",
      "0    -99.98\n",
      "1    -99.84\n",
      "2   -100.00\n",
      "3    -99.69\n",
      "4    -99.57\n",
      "Name: Iron_(mg), dtype: float64\n",
      "0    0.04\n",
      "1    0.32\n",
      "2    0.00\n",
      "3    0.62\n",
      "4    0.86\n",
      "Name: Iron_(mg), dtype: float64\n"
     ]
    }
   ],
   "source": [
    "print(food_info['Iron_(mg)'].head(5))\n",
    "print(food_info['Iron_(mg)'].mean())\n",
    "div_1000 = food_info[\"Iron_(mg)\"] / 1000\n",
    "print(div_1000.head(5))\n",
    "add_100 = food_info[\"Iron_(mg)\"] + 100\n",
    "print(add_100.head(5))\n",
    "sub_100 = food_info[\"Iron_(mg)\"] - 100\n",
    "print(sub_100.head(5))\n",
    "mult_2 = food_info[\"Iron_(mg)\"]*2\n",
    "print(mult_2.head(5))"
   ]
  },
  {
   "cell_type": "code",
   "execution_count": 19,
   "metadata": {},
   "outputs": [
    {
     "name": "stdout",
     "output_type": "stream",
     "text": [
      "0    11378.79\n",
      "1    11378.79\n",
      "2      210.24\n",
      "3    14970.73\n",
      "4    15251.81\n",
      "dtype: float64\n",
      "0    0.00002\n",
      "1    0.00016\n",
      "2    0.00000\n",
      "3    0.00031\n",
      "4    0.00043\n",
      "Name: Iron_(mg), dtype: float64\n",
      "(8618, 37)\n"
     ]
    }
   ],
   "source": [
    "water_energy = food_info[\"Water_(g)\"] * food_info[\"Energ_Kcal\"] # 总的水的能量\n",
    "print(water_energy.head(5)) \n",
    "iron_grams = food_info['Iron_(mg)'] / 1000 # mg ---> g\n",
    "print(iron_grams.head(5))\n",
    "food_info['Iron_(g)'] = iron_grams\n",
    "print(food_info.shape)"
   ]
  },
  {
   "cell_type": "code",
   "execution_count": 25,
   "metadata": {},
   "outputs": [
    {
     "name": "stdout",
     "output_type": "stream",
     "text": [
      "0       -59.1325\n",
      "1       -59.1325\n",
      "2       -74.0500\n",
      "3        21.2450\n",
      "4        24.2200\n",
      "5        20.7400\n",
      "6        21.4050\n",
      "7        28.4600\n",
      "8        22.7150\n",
      "9        23.7900\n",
      "10       23.4375\n",
      "11       19.0150\n",
      "12       18.4925\n",
      "13       20.4625\n",
      "14       19.1975\n",
      "15       24.0150\n",
      "16      -13.8200\n",
      "17       29.1300\n",
      "18       12.4600\n",
      "19       27.8450\n",
      "20       -2.8325\n",
      "21       29.3000\n",
      "22       35.3650\n",
      "23       19.6625\n",
      "24       26.2500\n",
      "25       27.5775\n",
      "26       24.7200\n",
      "27       36.5800\n",
      "28       34.3700\n",
      "29       24.2900\n",
      "          ...   \n",
      "8588     12.5250\n",
      "8589      1.8500\n",
      "8590      0.4500\n",
      "8591      6.0000\n",
      "8592     10.1450\n",
      "8593     18.0750\n",
      "8594      0.8500\n",
      "8595     52.9750\n",
      "8596      3.1750\n",
      "8597     42.1750\n",
      "8598    -58.3500\n",
      "8599    -75.0000\n",
      "8600      0.0000\n",
      "8601     -6.4650\n",
      "8602     21.0250\n",
      "8603      8.8000\n",
      "8604      0.0000\n",
      "8605      0.5775\n",
      "8606      0.6700\n",
      "8607      0.1525\n",
      "8608     17.9100\n",
      "8609      3.1250\n",
      "8610      0.9450\n",
      "8611    148.9325\n",
      "8612     32.5750\n",
      "8613     18.1750\n",
      "8614     40.4500\n",
      "8615      0.0000\n",
      "8616     31.1500\n",
      "8617     39.2250\n",
      "Length: 8618, dtype: float64\n"
     ]
    }
   ],
   "source": [
    "#Score=2×(Protein_(g))−0.75×(Lipid_Tot_(g))  计算公式\n",
    "weighted_protein = food_info[\"Protein_(g)\"] * 2\n",
    "weighted_fat = -0.75 * food_info[\"Lipid_Tot_(g)\"]\n",
    "initial_rating = weighted_protein + weighted_fat\n",
    "print(initial_rating)\n"
   ]
  },
  {
   "cell_type": "code",
   "execution_count": 29,
   "metadata": {},
   "outputs": [
    {
     "name": "stdout",
     "output_type": "stream",
     "text": [
      "902\n"
     ]
    }
   ],
   "source": [
    "max_calories = food_info[\"Energ_Kcal\"].max()\n",
    "print(max_calories)\n",
    "normalized_calories = food_info[\"Energ_Kcal\"] / max_calories # 归一化就是要把需要处理的数据经过处理后（通过某种算法）限制在你需要的一定范围内。\n",
    "# print(normalized_calories.mean())\n",
    "normalized_protein = food_info[\"Protein_(g)\"] / food_info[\"Protein_(g)\"].max()\n",
    "normalized_fat = food_info[\"Lipid_Tot_(g)\"] / food_info[\"Lipid_Tot_(g)\"].max()\n",
    "food_info[\"Normalized_Protein\"] = normalized_protein\n",
    "food_info[\"Normalized_Fat\"] = normalized_fat"
   ]
  },
  {
   "cell_type": "code",
   "execution_count": 60,
   "metadata": {},
   "outputs": [
    {
     "name": "stdout",
     "output_type": "stream",
     "text": [
      "0     643.0\n",
      "1     659.0\n",
      "2       2.0\n",
      "3    1146.0\n",
      "4     560.0\n",
      "Name: Sodium_(mg), dtype: float64\n",
      "8613    4450.0\n",
      "8614     667.0\n",
      "8615      58.0\n",
      "8616      70.0\n",
      "8617      68.0\n",
      "Name: Sodium_(mg), dtype: float64\n"
     ]
    }
   ],
   "source": [
    "print(food_info['Sodium_(mg)'].head(5)) # Na（钠）含量 \n",
    "# food_info.sort_values(\"Sodium_(mg)\", inplace=True) # inplace = True：不创建新的对象，直接对原始对象进行修改；\n",
    "# print(food_info['Sodium_(mg)'].head(5))\n",
    "print(food_info['Sodium_(mg)'].tail(5))\n",
    "# food_info.sort_values(\"Sodium_(mg)\", inplace=True, ascending=False)\n",
    "# print(food_info['Sodium_(mg)'].head(5))\n"
   ]
  },
  {
   "cell_type": "code",
   "execution_count": null,
   "metadata": {},
   "outputs": [],
   "source": []
  }
 ],
 "metadata": {
  "kernelspec": {
   "display_name": "Python 3",
   "language": "python",
   "name": "python3"
  },
  "language_info": {
   "codemirror_mode": {
    "name": "ipython",
    "version": 3
   },
   "file_extension": ".py",
   "mimetype": "text/x-python",
   "name": "python",
   "nbconvert_exporter": "python",
   "pygments_lexer": "ipython3",
   "version": "3.6.8"
  }
 },
 "nbformat": 4,
 "nbformat_minor": 2
}
